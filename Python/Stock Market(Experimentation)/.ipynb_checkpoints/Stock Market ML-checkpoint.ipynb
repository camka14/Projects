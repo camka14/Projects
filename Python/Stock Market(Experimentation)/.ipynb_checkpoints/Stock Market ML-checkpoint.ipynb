{
 "cells": [
  {
   "cell_type": "code",
   "execution_count": 24,
   "metadata": {},
   "outputs": [
    {
     "name": "stderr",
     "output_type": "stream",
     "text": [
      "c:\\users\\samuel\\appdata\\local\\programs\\python\\python36\\lib\\site-packages\\ipykernel_launcher.py:24: FutureWarning: pd.rolling_mean is deprecated for Series and will be removed in a future version, replace with \n",
      "\tSeries.rolling(window=200,center=False).mean()\n",
      "c:\\users\\samuel\\appdata\\local\\programs\\python\\python36\\lib\\site-packages\\ipykernel_launcher.py:25: FutureWarning: pd.rolling_mean is deprecated for Series and will be removed in a future version, replace with \n",
      "\tSeries.rolling(window=50,center=False).mean()\n",
      "c:\\users\\samuel\\appdata\\local\\programs\\python\\python36\\lib\\site-packages\\ipykernel_launcher.py:26: FutureWarning: pd.rolling_mean is deprecated for Series and will be removed in a future version, replace with \n",
      "\tSeries.rolling(window=20,center=False).mean()\n",
      "c:\\users\\samuel\\appdata\\local\\programs\\python\\python36\\lib\\site-packages\\ipykernel_launcher.py:27: FutureWarning: pd.rolling_mean is deprecated for Series and will be removed in a future version, replace with \n",
      "\tSeries.rolling(window=10,center=False).mean()\n"
     ]
    },
    {
     "name": "stdout",
     "output_type": "stream",
     "text": [
      "Data spread Counter({'0': 1595, '1': 1460, '-1': 1333})\n"
     ]
    },
    {
     "name": "stderr",
     "output_type": "stream",
     "text": [
      "c:\\users\\samuel\\appdata\\local\\programs\\python\\python36\\lib\\site-packages\\sklearn\\discriminant_analysis.py:682: UserWarning: Variables are collinear\n",
      "  warnings.warn(\"Variables are collinear\")\n",
      "c:\\users\\samuel\\appdata\\local\\programs\\python\\python36\\lib\\site-packages\\sklearn\\preprocessing\\label.py:151: DeprecationWarning: The truth value of an empty array is ambiguous. Returning False, but in future this will result in an error. Use `array.size > 0` to check that an array is not empty.\n",
      "  if diff:\n"
     ]
    },
    {
     "name": "stdout",
     "output_type": "stream",
     "text": [
      "Accuracy: 0.7201458523245214\n",
      "Predicted spread: Counter({0: 470, 1: 372, -1: 255})\n"
     ]
    },
    {
     "name": "stderr",
     "output_type": "stream",
     "text": [
      "c:\\users\\samuel\\appdata\\local\\programs\\python\\python36\\lib\\site-packages\\sklearn\\preprocessing\\label.py:151: DeprecationWarning: The truth value of an empty array is ambiguous. Returning False, but in future this will result in an error. Use `array.size > 0` to check that an array is not empty.\n",
      "  if diff:\n"
     ]
    }
   ],
   "source": [
    "from collections import Counter\n",
    "from sklearn import svm, cross_validation, neighbors\n",
    "from sklearn.ensemble import VotingClassifier\n",
    "from sklearn.neural_network import MLPClassifier\n",
    "from sklearn.svm import SVC\n",
    "from sklearn.gaussian_process import GaussianProcessClassifier\n",
    "from sklearn.gaussian_process.kernels import RBF\n",
    "from sklearn.tree import DecisionTreeClassifier\n",
    "from sklearn.ensemble import RandomForestClassifier, AdaBoostClassifier\n",
    "from sklearn.naive_bayes import GaussianNB\n",
    "from sklearn.discriminant_analysis import QuadraticDiscriminantAnalysis\n",
    "import numpy as np\n",
    "import pandas as pd\n",
    "import quandl\n",
    "import pickle\n",
    "\n",
    "def process_data_for_labels(ticker):\n",
    "    hm_days = 10\n",
    "    df = pd.read_csv('sp500_joined_closes.csv')\n",
    "    df.drop('Date', axis=1,inplace=True)\n",
    "    tickers = df.columns.values\n",
    "    df.fillna(0, inplace=True)    \n",
    "    names = ['{}_200ma'.format(ticker),'{}_50ma'.format(ticker),'{}_20ma'.format(ticker),'{}_10ma'.format(ticker)]\n",
    "    df[names[0]] = pd.rolling_mean(df[ticker],window=200)\n",
    "    df[names[1]] = pd.rolling_mean(df[ticker],window=50)\n",
    "    df[names[2]] = pd.rolling_mean(df[ticker],window=20)\n",
    "    df[names[3]] = pd.rolling_mean(df[ticker],window=10)\n",
    "    df.dropna(inplace = True)\n",
    "    \n",
    "    for i in range(1,hm_days+1):\n",
    "        df['{}_200ma_{}d'.format(ticker, i)] = df[names[0]].shift(i)\n",
    "        df['{}_50ma_{}d'.format(ticker, i)] = df[names[1]].shift(i)\n",
    "        df['{}_20ma_{}d'.format(ticker, i)] = df[names[2]].shift(i)\n",
    "        df['{}_10ma_{}d'.format(ticker, i)] = df[names[3]].shift(i)\n",
    "        df['{}_10-200ma_{}d'.format(ticker, i)] = df[names[3]].shift(i)-df[names[0]].shift(i)\n",
    "        df['{}_20-50ma_{}d'.format(ticker, i)] = df[names[2]].shift(i)-df[names[1]].shift(i)\n",
    "        df['{}_{}d'.format(ticker, i)] = (df[ticker].shift(-i) - df[ticker]) / df[ticker]\n",
    "        \n",
    "    df.fillna(0, inplace=True)\n",
    "    return tickers,df\n",
    "\n",
    "def buy_sell_hold(*args):\n",
    "    cols = [c for c in args]\n",
    "\n",
    "    for col in cols:\n",
    "        if col > 0.008:\n",
    "            return 1\n",
    "        elif col < -0.007:\n",
    "            return -1\n",
    "        else:\n",
    "            return 0\n",
    "\n",
    "def extract_feturesets(ticker):\n",
    "    tickers, df = process_data_for_labels(ticker)\n",
    "\n",
    "    df['{}_target'.format(ticker)] = list(map(buy_sell_hold,\n",
    "                                            df['{}_1d'.format(ticker)],\n",
    "                                            df['{}_2d'.format(ticker)],\n",
    "                                            df['{}_3d'.format(ticker)],\n",
    "                                            df['{}_4d'.format(ticker)],\n",
    "                                            df['{}_5d'.format(ticker)],\n",
    "                                            df['{}_6d'.format(ticker)],\n",
    "                                            df['{}_7d'.format(ticker)],\n",
    "                                            df['{}_8d'.format(ticker)],\n",
    "                                            df['{}_9d'.format(ticker)],\n",
    "                                            df['{}_10d'.format(ticker)]))\n",
    "    \n",
    "    vals = df['{}_target'.format(ticker)].values.tolist()\n",
    "    str_vals = [str(i) for i in vals]\n",
    "    print('Data spread', Counter(str_vals))\n",
    "    \n",
    "    df.fillna(0, inplace=True)\n",
    "\n",
    "    df = df.replace([np.inf, -np.inf], np.nan)\n",
    "    df.dropna(inplace=True)\n",
    "\n",
    "    df_vals = df[[ticker for ticker in tickers]].pct_change()\n",
    "    df_vals = df_vals.replace([np.inf, -np.inf], 0)\n",
    "    df_vals = pd.concat([df_vals, df.loc[:,'{}_20ma'.format(ticker):'{}_20-50ma_7d'.format(ticker)]], axis=1)\n",
    "    df_vals.fillna(0, inplace=True)\n",
    "\n",
    "    X = df_vals.values\n",
    "    y = df['{}_target'.format(ticker)].values\n",
    "    return X, y, df\n",
    "\n",
    "def do_ml(ticker):\n",
    "    X, y, df = extract_feturesets(ticker)\n",
    "\n",
    "    X_train, X_test, y_train, y_test = cross_validation.train_test_split(X,y,test_size=0.25)\n",
    "\n",
    "    clf = VotingClassifier([('lsvc', svm.LinearSVC()),\n",
    "                            ('knn', neighbors.KNeighborsClassifier()),\n",
    "                            ('rfor', RandomForestClassifier()),\n",
    "                            ('gpc', GaussianProcessClassifier(1.0 * RBF(1.0))),\n",
    "                            ('svc', SVC(gamma=2, C=1)),\n",
    "                            ('dtc', DecisionTreeClassifier()),\n",
    "                            ('abc', AdaBoostClassifier()),\n",
    "                            ('gnb', GaussianNB()),\n",
    "                            ('qda', QuadraticDiscriminantAnalysis())])\n",
    "\n",
    "    clf.fit(X_train, y_train)\n",
    "    confidence = clf.score(X_test, y_test)\n",
    "    print('Accuracy:', confidence)\n",
    "    predictions = clf.predict(X_test)\n",
    "    print('Predicted spread:', Counter(predictions))\n",
    "\n",
    "    return df\n",
    "\n",
    "# with open('Stock Market/sp500tickers.pickle', 'rb') as f:\n",
    "#     tickers = pickle.load(f)\n",
    "# for ticker in tickers:\n",
    "df = do_ml('AAPL')"
   ]
  },
  {
   "cell_type": "code",
   "execution_count": 56,
   "metadata": {},
   "outputs": [
    {
     "data": {
      "image/png": "[encoded data removed]",
      "text/plain": [
       "<Figure size 432x288 with 1 Axes>"
      ]
     },
     "metadata": {},
     "output_type": "display_data"
    }
   ],
   "source": [
    "import matplotlib.pyplot as plt\n",
    "from matplotlib import style\n",
    "\n",
    "style.use(\"ggplot\")\n",
    "\n",
    "plt.plot(df['AAPL_10ma'])\n",
    "plt.plot(df['AAPL'])\n",
    "plt.show()"
   ]
  },
  {
   "cell_type": "code",
   "execution_count": null,
   "metadata": {},
   "outputs": [],
   "source": []
  }
 ],
 "metadata": {
  "kernelspec": {
   "display_name": "Python 3",
   "language": "python",
   "name": "python3"
  },
  "language_info": {
   "codemirror_mode": {
    "name": "ipython",
    "version": 3
   },
   "file_extension": ".py",
   "mimetype": "text/x-python",
   "name": "python",
   "nbconvert_exporter": "python",
   "pygments_lexer": "ipython3",
   "version": "3.6.6"
  }
 },
 "nbformat": 4,
 "nbformat_minor": 2
}
