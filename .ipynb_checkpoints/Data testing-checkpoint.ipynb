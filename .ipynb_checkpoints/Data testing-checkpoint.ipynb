{
 "cells": [
  {
   "cell_type": "code",
   "execution_count": 1,
   "metadata": {},
   "outputs": [],
   "source": [
    "from zipline.api import order, record, symbol, set_benchmark\n",
    "from zipline.data.resample import minute_panel_to_session_panel as mp\n",
    "from datetime import datetime\n",
    "import zipline\n",
    "from pandas import Timestamp\n",
    "import pandas as pd\n",
    "from collections import OrderedDict\n",
    "import pytz\n",
    "from trading_calendars.calendar import TwentyFourHR"
   ]
  },
  {
   "cell_type": "code",
   "execution_count": 2,
   "metadata": {},
   "outputs": [
    {
     "ename": "IndexError",
     "evalue": "index 0 is out of bounds for axis 0 with size 0",
     "output_type": "error",
     "traceback": [
      "\u001b[1;31m---------------------------------------------------------------------------\u001b[0m",
      "\u001b[1;31mIndexError\u001b[0m                                Traceback (most recent call last)",
      "\u001b[1;32m<ipython-input-2-a88ec1bcee87>\u001b[0m in \u001b[0;36m<module>\u001b[1;34m()\u001b[0m\n\u001b[0;32m     42\u001b[0m                               \u001b[0mhandle_data\u001b[0m\u001b[1;33m=\u001b[0m\u001b[0mhandle_data\u001b[0m\u001b[1;33m,\u001b[0m\u001b[1;33m\u001b[0m\u001b[0m\n\u001b[0;32m     43\u001b[0m                               \u001b[0mdata_frequency\u001b[0m\u001b[1;33m=\u001b[0m\u001b[1;34m'minute'\u001b[0m\u001b[1;33m,\u001b[0m\u001b[1;33m\u001b[0m\u001b[0m\n\u001b[1;32m---> 44\u001b[1;33m                               data=panel)\n\u001b[0m",
      "\u001b[1;32mc:\\users\\samuel\\appdata\\local\\programs\\python\\python36\\lib\\site-packages\\zipline\\utils\\run_algo.py\u001b[0m in \u001b[0;36mrun_algorithm\u001b[1;34m(start, end, initialize, capital_base, handle_data, before_trading_start, analyze, data_frequency, data, bundle, bundle_timestamp, trading_calendar, metrics_set, default_extension, extensions, strict_extensions, environ, blotter)\u001b[0m\n\u001b[0;32m    428\u001b[0m         \u001b[0mlocal_namespace\u001b[0m\u001b[1;33m=\u001b[0m\u001b[1;32mFalse\u001b[0m\u001b[1;33m,\u001b[0m\u001b[1;33m\u001b[0m\u001b[0m\n\u001b[0;32m    429\u001b[0m         \u001b[0menviron\u001b[0m\u001b[1;33m=\u001b[0m\u001b[0menviron\u001b[0m\u001b[1;33m,\u001b[0m\u001b[1;33m\u001b[0m\u001b[0m\n\u001b[1;32m--> 430\u001b[1;33m         \u001b[0mblotter\u001b[0m\u001b[1;33m=\u001b[0m\u001b[0mblotter\u001b[0m\u001b[1;33m,\u001b[0m\u001b[1;33m\u001b[0m\u001b[0m\n\u001b[0m\u001b[0;32m    431\u001b[0m     )\n",
      "\u001b[1;32mc:\\users\\samuel\\appdata\\local\\programs\\python\\python36\\lib\\site-packages\\zipline\\utils\\run_algo.py\u001b[0m in \u001b[0;36m_run\u001b[1;34m(handle_data, initialize, before_trading_start, analyze, algofile, algotext, defines, data_frequency, capital_base, data, bundle, bundle_timestamp, start, end, output, trading_calendar, print_algo, metrics_set, local_namespace, environ, blotter)\u001b[0m\n\u001b[0;32m    227\u001b[0m     \u001b[1;33m)\u001b[0m\u001b[1;33m.\u001b[0m\u001b[0mrun\u001b[0m\u001b[1;33m(\u001b[0m\u001b[1;33m\u001b[0m\u001b[0m\n\u001b[0;32m    228\u001b[0m         \u001b[0mdata\u001b[0m\u001b[1;33m,\u001b[0m\u001b[1;33m\u001b[0m\u001b[0m\n\u001b[1;32m--> 229\u001b[1;33m         \u001b[0moverwrite_sim_params\u001b[0m\u001b[1;33m=\u001b[0m\u001b[1;32mFalse\u001b[0m\u001b[1;33m,\u001b[0m\u001b[1;33m\u001b[0m\u001b[0m\n\u001b[0m\u001b[0;32m    230\u001b[0m     )\n\u001b[0;32m    231\u001b[0m \u001b[1;33m\u001b[0m\u001b[0m\n",
      "\u001b[1;32mc:\\users\\samuel\\appdata\\local\\programs\\python\\python36\\lib\\site-packages\\zipline\\algorithm.py\u001b[0m in \u001b[0;36mrun\u001b[1;34m(self, data, overwrite_sim_params)\u001b[0m\n\u001b[0;32m    720\u001b[0m                     \u001b[0mself\u001b[0m\u001b[1;33m.\u001b[0m\u001b[0mtrading_calendar\u001b[0m\u001b[1;33m,\u001b[0m\u001b[1;33m\u001b[0m\u001b[0m\n\u001b[0;32m    721\u001b[0m                     \u001b[0mcopy_panel\u001b[0m\u001b[1;33m,\u001b[0m\u001b[1;33m\u001b[0m\u001b[0m\n\u001b[1;32m--> 722\u001b[1;33m                     \u001b[0mself\u001b[0m\u001b[1;33m.\u001b[0m\u001b[0msim_params\u001b[0m\u001b[1;33m.\u001b[0m\u001b[0mdata_frequency\u001b[0m\u001b[1;33m,\u001b[0m\u001b[1;33m\u001b[0m\u001b[0m\n\u001b[0m\u001b[0;32m    723\u001b[0m                 )\n\u001b[0;32m    724\u001b[0m                 \u001b[1;32mif\u001b[0m \u001b[0mself\u001b[0m\u001b[1;33m.\u001b[0m\u001b[0msim_params\u001b[0m\u001b[1;33m.\u001b[0m\u001b[0mdata_frequency\u001b[0m \u001b[1;33m==\u001b[0m \u001b[1;34m'daily'\u001b[0m\u001b[1;33m:\u001b[0m\u001b[1;33m\u001b[0m\u001b[0m\n",
      "\u001b[1;32mc:\\users\\samuel\\appdata\\local\\programs\\python\\python36\\lib\\site-packages\\zipline\\data\\us_equity_pricing.py\u001b[0m in \u001b[0;36m__init__\u001b[1;34m(self, trading_calendar, panel, data_frequency)\u001b[0m\n\u001b[0;32m    777\u001b[0m     \u001b[1;33m@\u001b[0m\u001b[0mexpect_element\u001b[0m\u001b[1;33m(\u001b[0m\u001b[0mdata_frequency\u001b[0m\u001b[1;33m=\u001b[0m\u001b[1;33m{\u001b[0m\u001b[1;34m'daily'\u001b[0m\u001b[1;33m,\u001b[0m \u001b[1;34m'minute'\u001b[0m\u001b[1;33m}\u001b[0m\u001b[1;33m)\u001b[0m\u001b[1;33m\u001b[0m\u001b[0m\n\u001b[0;32m    778\u001b[0m     \u001b[1;32mdef\u001b[0m \u001b[0m__init__\u001b[0m\u001b[1;33m(\u001b[0m\u001b[0mself\u001b[0m\u001b[1;33m,\u001b[0m \u001b[0mtrading_calendar\u001b[0m\u001b[1;33m,\u001b[0m \u001b[0mpanel\u001b[0m\u001b[1;33m,\u001b[0m \u001b[0mdata_frequency\u001b[0m\u001b[1;33m)\u001b[0m\u001b[1;33m:\u001b[0m\u001b[1;33m\u001b[0m\u001b[0m\n\u001b[1;32m--> 779\u001b[1;33m \u001b[1;33m\u001b[0m\u001b[0m\n\u001b[0m\u001b[0;32m    780\u001b[0m         \u001b[0mpanel\u001b[0m \u001b[1;33m=\u001b[0m \u001b[0mpanel\u001b[0m\u001b[1;33m.\u001b[0m\u001b[0mcopy\u001b[0m\u001b[1;33m(\u001b[0m\u001b[1;33m)\u001b[0m\u001b[1;33m\u001b[0m\u001b[0m\n\u001b[0;32m    781\u001b[0m         \u001b[1;32mif\u001b[0m \u001b[1;34m'volume'\u001b[0m \u001b[1;32mnot\u001b[0m \u001b[1;32min\u001b[0m \u001b[0mpanel\u001b[0m\u001b[1;33m.\u001b[0m\u001b[0mminor_axis\u001b[0m\u001b[1;33m:\u001b[0m\u001b[1;33m\u001b[0m\u001b[0m\n",
      "\u001b[1;32mc:\\users\\samuel\\appdata\\local\\programs\\python\\python36\\lib\\site-packages\\zipline\\data\\us_equity_pricing.py\u001b[0m in \u001b[0;36m__init__\u001b[1;34m(self, trading_calendar, panel, data_frequency)\u001b[0m\n\u001b[0;32m    777\u001b[0m     \u001b[1;33m@\u001b[0m\u001b[0mexpect_element\u001b[0m\u001b[1;33m(\u001b[0m\u001b[0mdata_frequency\u001b[0m\u001b[1;33m=\u001b[0m\u001b[1;33m{\u001b[0m\u001b[1;34m'daily'\u001b[0m\u001b[1;33m,\u001b[0m \u001b[1;34m'minute'\u001b[0m\u001b[1;33m}\u001b[0m\u001b[1;33m)\u001b[0m\u001b[1;33m\u001b[0m\u001b[0m\n\u001b[0;32m    778\u001b[0m     \u001b[1;32mdef\u001b[0m \u001b[0m__init__\u001b[0m\u001b[1;33m(\u001b[0m\u001b[0mself\u001b[0m\u001b[1;33m,\u001b[0m \u001b[0mtrading_calendar\u001b[0m\u001b[1;33m,\u001b[0m \u001b[0mpanel\u001b[0m\u001b[1;33m,\u001b[0m \u001b[0mdata_frequency\u001b[0m\u001b[1;33m)\u001b[0m\u001b[1;33m:\u001b[0m\u001b[1;33m\u001b[0m\u001b[0m\n\u001b[1;32m--> 779\u001b[1;33m \u001b[1;33m\u001b[0m\u001b[0m\n\u001b[0m\u001b[0;32m    780\u001b[0m         \u001b[0mpanel\u001b[0m \u001b[1;33m=\u001b[0m \u001b[0mpanel\u001b[0m\u001b[1;33m.\u001b[0m\u001b[0mcopy\u001b[0m\u001b[1;33m(\u001b[0m\u001b[1;33m)\u001b[0m\u001b[1;33m\u001b[0m\u001b[0m\n\u001b[0;32m    781\u001b[0m         \u001b[1;32mif\u001b[0m \u001b[1;34m'volume'\u001b[0m \u001b[1;32mnot\u001b[0m \u001b[1;32min\u001b[0m \u001b[0mpanel\u001b[0m\u001b[1;33m.\u001b[0m\u001b[0mminor_axis\u001b[0m\u001b[1;33m:\u001b[0m\u001b[1;33m\u001b[0m\u001b[0m\n",
      "\u001b[1;32mc:\\users\\samuel\\appdata\\local\\programs\\python\\python36\\lib\\site-packages\\zipline\\data\\us_equity_pricing.py\u001b[0m in \u001b[0;36m__init__\u001b[1;34m(self, trading_calendar, panel, data_frequency)\u001b[0m\n\u001b[0;32m    801\u001b[0m             self._calendar = trading_calendar.minutes_for_sessions_in_range(\n\u001b[0;32m    802\u001b[0m                 \u001b[0mself\u001b[0m\u001b[1;33m.\u001b[0m\u001b[0mfirst_trading_day\u001b[0m\u001b[1;33m,\u001b[0m\u001b[1;33m\u001b[0m\u001b[0m\n\u001b[1;32m--> 803\u001b[1;33m                 \u001b[0mlast_trading_day\u001b[0m\u001b[1;33m\u001b[0m\u001b[0m\n\u001b[0m\u001b[0;32m    804\u001b[0m             )\n\u001b[0;32m    805\u001b[0m \u001b[1;33m\u001b[0m\u001b[0m\n",
      "\u001b[1;32mc:\\users\\samuel\\appdata\\local\\programs\\python\\python36\\lib\\site-packages\\trading_calendars\\trading_calendar.py\u001b[0m in \u001b[0;36mminutes_for_sessions_in_range\u001b[1;34m(self, start_session_label, end_session_label)\u001b[0m\n\u001b[0;32m    663\u001b[0m         \u001b[0m_\u001b[0m\u001b[1;33m,\u001b[0m \u001b[0mlast_minute\u001b[0m \u001b[1;33m=\u001b[0m \u001b[0mself\u001b[0m\u001b[1;33m.\u001b[0m\u001b[0mopen_and_close_for_session\u001b[0m\u001b[1;33m(\u001b[0m\u001b[0mend_session_label\u001b[0m\u001b[1;33m)\u001b[0m\u001b[1;33m\u001b[0m\u001b[0m\n\u001b[0;32m    664\u001b[0m \u001b[1;33m\u001b[0m\u001b[0m\n\u001b[1;32m--> 665\u001b[1;33m         \u001b[1;32mreturn\u001b[0m \u001b[0mself\u001b[0m\u001b[1;33m.\u001b[0m\u001b[0mminutes_in_range\u001b[0m\u001b[1;33m(\u001b[0m\u001b[0mfirst_minute\u001b[0m\u001b[1;33m,\u001b[0m \u001b[0mlast_minute\u001b[0m\u001b[1;33m)\u001b[0m\u001b[1;33m\u001b[0m\u001b[0m\n\u001b[0m\u001b[0;32m    666\u001b[0m \u001b[1;33m\u001b[0m\u001b[0m\n\u001b[0;32m    667\u001b[0m     \u001b[1;32mdef\u001b[0m \u001b[0mopen_and_close_for_session\u001b[0m\u001b[1;33m(\u001b[0m\u001b[0mself\u001b[0m\u001b[1;33m,\u001b[0m \u001b[0msession_label\u001b[0m\u001b[1;33m)\u001b[0m\u001b[1;33m:\u001b[0m\u001b[1;33m\u001b[0m\u001b[0m\n",
      "\u001b[1;32mc:\\users\\samuel\\appdata\\local\\programs\\python\\python36\\lib\\site-packages\\trading_calendars\\trading_calendar.py\u001b[0m in \u001b[0;36mminutes_in_range\u001b[1;34m(self, start_minute, end_minute)\u001b[0m\n\u001b[0;32m    633\u001b[0m                                end_minute.value)\n\u001b[0;32m    634\u001b[0m \u001b[1;33m\u001b[0m\u001b[0m\n\u001b[1;32m--> 635\u001b[1;33m         \u001b[1;32mif\u001b[0m \u001b[0mend_minute\u001b[0m\u001b[1;33m.\u001b[0m\u001b[0mvalue\u001b[0m \u001b[1;33m==\u001b[0m \u001b[0mself\u001b[0m\u001b[1;33m.\u001b[0m\u001b[0m_trading_minutes_nanos\u001b[0m\u001b[1;33m[\u001b[0m\u001b[0mend_idx\u001b[0m\u001b[1;33m]\u001b[0m\u001b[1;33m:\u001b[0m\u001b[1;33m\u001b[0m\u001b[0m\n\u001b[0m\u001b[0;32m    636\u001b[0m             \u001b[1;31m# if the end minute is a market minute, increase by 1\u001b[0m\u001b[1;33m\u001b[0m\u001b[1;33m\u001b[0m\u001b[0m\n\u001b[0;32m    637\u001b[0m             \u001b[0mend_idx\u001b[0m \u001b[1;33m+=\u001b[0m \u001b[1;36m1\u001b[0m\u001b[1;33m\u001b[0m\u001b[0m\n",
      "\u001b[1;31mIndexError\u001b[0m: index 0 is out of bounds for axis 0 with size 0"
     ]
    }
   ],
   "source": [
    "def initialize(context):\n",
    "    context.i = 0\n",
    "    context.assets = symbol('EURUSD')\n",
    "    \n",
    "def handle_data(context, data):\n",
    "    context.i+=1\n",
    "    if context.i<200:\n",
    "        return\n",
    "    window = data.history(context.assets, 'close', 200, \"1m\")\n",
    "    ema_200 = pd.ewma(window, 200, 199)\n",
    "    ema_50 = pd.ewma(window, 50, 49)\n",
    "    ema_20 = pd.ewma(window, 20, 19)\n",
    "    ema_10 = pd.ewma(window, 10, 9)\n",
    "    print(ema_10)\n",
    "    \n",
    "    order(symbol(\"EURUSD\"), 10)\n",
    "    record(SPY=data.current(symbol('EURUSD'), 'price'))\n",
    "\n",
    "df = pd.read_csv('Stock Market/DAT_MT_EURUSD_M1_2017.csv')\n",
    "df['Datetime'] = pd.to_datetime(df['Date'].apply(str)+' '+df['Time'])\n",
    "df.drop(df[['Date','Time','Zeroes']], axis=1, inplace=True)\n",
    "df.set_index('Datetime',inplace=True)\n",
    "df.fillna(0,inplace=True)\n",
    "\n",
    "\n",
    "data = OrderedDict()\n",
    "tickers = [\"EURUSD\"]\n",
    "for ticker in tickers:\n",
    "    data[ticker] = df\n",
    "data['EURUSD'] = data['EURUSD'].resample(\"1min\").mean()\n",
    "data['EURUSD'].fillna(method='ffill', inplace=True)\n",
    "panel = pd.Panel(data)\n",
    "panel.minor_axis = [\"Open\",\"High\",\"Low\",\"Close\"]\n",
    "panel.major_axis = panel.major_axis.tz_localize(pytz.utc)\n",
    "# print(panel['EURUSD'])\n",
    "\n",
    "perf = zipline.run_algorithm(start=datetime(2017, 1, 2, 2, 0, 0, 0, pytz.utc),\n",
    "                              end=datetime(2017, 12, 29, 16, 57, 0, 0, pytz.utc),\n",
    "                              initialize=initialize,\n",
    "                              capital_base=100000,\n",
    "                              trading_calendar=TwentyFourHR(),\n",
    "                              handle_data=handle_data,\n",
    "                              data_frequency='minute',\n",
    "                              data=panel)\n"
   ]
  },
  {
   "cell_type": "code",
   "execution_count": null,
   "metadata": {},
   "outputs": [],
   "source": []
  },
  {
   "cell_type": "code",
   "execution_count": null,
   "metadata": {},
   "outputs": [],
   "source": []
  }
 ],
 "metadata": {
  "kernelspec": {
   "display_name": "Python 3",
   "language": "python",
   "name": "python3"
  },
  "language_info": {
   "codemirror_mode": {
    "name": "ipython",
    "version": 3
   },
   "file_extension": ".py",
   "mimetype": "text/x-python",
   "name": "python",
   "nbconvert_exporter": "python",
   "pygments_lexer": "ipython3",
   "version": "3.6.6"
  }
 },
 "nbformat": 4,
 "nbformat_minor": 2
}
